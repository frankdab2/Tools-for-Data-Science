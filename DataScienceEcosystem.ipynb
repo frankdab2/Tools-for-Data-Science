{
 "cells": [
  {
   "cell_type": "markdown",
   "id": "4e7c58c0-642c-463b-9566-c4c57ea77177",
   "metadata": {},
   "source": [
    "# Data Science Tools and Ecosystem"
   ]
  },
  {
   "cell_type": "markdown",
   "id": "f2f21d49-9f88-4278-bb41-13dc48234d44",
   "metadata": {},
   "source": [
    "In this notebook, Data Science Tools and Ecosystem are summarized."
   ]
  },
  {
   "cell_type": "markdown",
   "id": "6ad7a968-f625-4c9b-935a-36c22706d14f",
   "metadata": {},
   "source": [
    "**Objectives:**\n",
    "* Popular languages that Data Scientist\n",
    "* Commonly used libraries used by Data Scientists\n",
    "* Examples of evaluating arithmetic expressions in Python\n"
   ]
  },
  {
   "cell_type": "markdown",
   "id": "be466270-9976-4ed5-81f4-204fece3bbab",
   "metadata": {},
   "source": [
    "Some of the popular languages that Data Scientists use are:\n",
    "1. Python\n",
    "2. Julia\n",
    "3. R"
   ]
  },
  {
   "cell_type": "markdown",
   "id": "093f17f2-7449-4677-be7d-a58f945e9b44",
   "metadata": {},
   "source": [
    "Some of the commonly used libraries used by Data Scientists include:\n",
    "1. Pandas\n",
    "2. Matplotlib\n",
    "3. Scipy"
   ]
  },
  {
   "cell_type": "markdown",
   "id": "3550835a-7389-45ed-a31b-b2acbd440f7a",
   "metadata": {},
   "source": [
    "  \n",
    "|Data Science Tools|\n",
    "|-----------------|\n",
    "|Jupyter Notebook|\n",
    "|RStudio|\n",
    "|Visual Studio Code|"
   ]
  },
  {
   "cell_type": "markdown",
   "id": "7ddc39a4-b98e-43d5-bf72-1fc6a6a975e7",
   "metadata": {},
   "source": [
    "### Below are a few examples of evaluating arithmetic expressions in Python"
   ]
  },
  {
   "cell_type": "code",
   "execution_count": 1,
   "id": "ac21221a-d336-4e2e-96c6-c8001e091f84",
   "metadata": {
    "tags": []
   },
   "outputs": [
    {
     "data": {
      "text/plain": [
       "17"
      ]
     },
     "execution_count": 1,
     "metadata": {},
     "output_type": "execute_result"
    }
   ],
   "source": [
    "# This a simple arithmetic expression to mutiply then add integers\n",
    "(3*4)+5"
   ]
  },
  {
   "cell_type": "code",
   "execution_count": 2,
   "id": "9cb7dd8a-9b9a-41be-a637-4722f656f00d",
   "metadata": {
    "tags": []
   },
   "outputs": [
    {
     "data": {
      "text/plain": [
       "3.3333333333333335"
      ]
     },
     "execution_count": 2,
     "metadata": {},
     "output_type": "execute_result"
    }
   ],
   "source": [
    "# This will convert 200 minutes to hours by diving by 60\n",
    "200/60"
   ]
  },
  {
   "cell_type": "markdown",
   "id": "abafcb34-c865-4b79-ab55-1e7248280966",
   "metadata": {},
   "source": [
    "## Author\n",
    "Franklin Dabi-Dankwah"
   ]
  },
  {
   "cell_type": "code",
   "execution_count": null,
   "id": "bd7947f9-c3f5-477f-9e15-dbc0ad0330fc",
   "metadata": {},
   "outputs": [],
   "source": []
  }
 ],
 "metadata": {
  "kernelspec": {
   "display_name": "Python",
   "language": "python",
   "name": "conda-env-python-py"
  },
  "language_info": {
   "codemirror_mode": {
    "name": "ipython",
    "version": 3
   },
   "file_extension": ".py",
   "mimetype": "text/x-python",
   "name": "python",
   "nbconvert_exporter": "python",
   "pygments_lexer": "ipython3",
   "version": "3.7.12"
  }
 },
 "nbformat": 4,
 "nbformat_minor": 5
}
